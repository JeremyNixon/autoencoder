{
 "cells": [
  {
   "cell_type": "code",
   "execution_count": 1,
   "metadata": {
    "collapsed": false
   },
   "outputs": [
    {
     "name": "stderr",
     "output_type": "stream",
     "text": [
      "Using Theano backend.\n"
     ]
    }
   ],
   "source": [
    "from keras.layers import Input, Dense\n",
    "from keras.models import Model"
   ]
  },
  {
   "cell_type": "code",
   "execution_count": 2,
   "metadata": {
    "collapsed": true
   },
   "outputs": [],
   "source": [
    "# This is the size of our encoded representation\n",
    "encoding_dim = 32 # 32 floats => compression of factor 24.5, assuming input is 784 floats\n",
    "\n",
    "# This is our input placeholder \n",
    "input_img = Input(shape=(784,))\n",
    "\n",
    "# \"encoded\" is the encoded representation of the input\n",
    "encoded = Dense(encoding_dim, activation='relu')(input_img)\n",
    "\n",
    "# \"decoded\" is the lossy reconstruction of the input\n",
    "decoded = Dense(784, activation='sigmoid')(encoded)\n",
    "\n",
    "# this model maps an input image to its reconstruction\n",
    "autoencoder = Model(input=input_img, output=decoded)"
   ]
  },
  {
   "cell_type": "code",
   "execution_count": 3,
   "metadata": {
    "collapsed": false
   },
   "outputs": [],
   "source": [
    "# Encoder Model\n",
    "# this model maps an input to its encoded representation\n",
    "encoder = Model(input=input_img, output=encoded)"
   ]
  },
  {
   "cell_type": "code",
   "execution_count": 4,
   "metadata": {
    "collapsed": false
   },
   "outputs": [],
   "source": [
    "# Decoder Model\n",
    "# Create a placeholder for an encoded (32-dimensional) input\n",
    "encoded_input = Input(shape=(encoding_dim,))\n",
    "# retrieve the last layer of the autoencoder model\n",
    "decoder_layer = autoencoder.layers[-1]\n",
    "# create the decoder model\n",
    "decoder = Model(input=encoded_input, output=decoder_layer(encoded_input))"
   ]
  },
  {
   "cell_type": "code",
   "execution_count": 5,
   "metadata": {
    "collapsed": true
   },
   "outputs": [],
   "source": [
    "# Configure model to use per-pixel binary crossentropy loss\n",
    "autoencoder.compile(optimizer='adadelta', loss='binary_crossentropy')"
   ]
  },
  {
   "cell_type": "code",
   "execution_count": 6,
   "metadata": {
    "collapsed": true
   },
   "outputs": [],
   "source": [
    "from keras.datasets import mnist\n",
    "import numpy as np\n",
    "(x_train, _), (x_test, _) = mnist.load_data()"
   ]
  },
  {
   "cell_type": "code",
   "execution_count": 7,
   "metadata": {
    "collapsed": false
   },
   "outputs": [
    {
     "ename": "TypeError",
     "evalue": "Mismatch between array dtype ('uint8') and format specifier ('%.18e %.18e %.18e %.18e %.18e %.18e %.18e %.18e %.18e %.18e %.18e %.18e %.18e %.18e %.18e %.18e %.18e %.18e %.18e %.18e %.18e %.18e %.18e %.18e %.18e %.18e %.18e %.18e')",
     "output_type": "error",
     "traceback": [
      "\u001b[0;31m---------------------------------------------------------------------------\u001b[0m",
      "\u001b[0;31mTypeError\u001b[0m                                 Traceback (most recent call last)",
      "\u001b[0;32m<ipython-input-7-adc2bbbc244a>\u001b[0m in \u001b[0;36m<module>\u001b[0;34m()\u001b[0m\n\u001b[0;32m----> 1\u001b[0;31m \u001b[0mnp\u001b[0m\u001b[0;34m.\u001b[0m\u001b[0msavetxt\u001b[0m\u001b[0;34m(\u001b[0m\u001b[0;34m\"mnist_x_train\"\u001b[0m\u001b[0;34m,\u001b[0m \u001b[0mx_train\u001b[0m\u001b[0;34m)\u001b[0m\u001b[0;34m\u001b[0m\u001b[0m\n\u001b[0m",
      "\u001b[0;32m/Users/jnoxon/anaconda/lib/python2.7/site-packages/numpy/lib/npyio.pyc\u001b[0m in \u001b[0;36msavetxt\u001b[0;34m(fname, X, fmt, delimiter, newline, header, footer, comments)\u001b[0m\n\u001b[1;32m   1160\u001b[0m                     raise TypeError(\"Mismatch between array dtype ('%s') and \"\n\u001b[1;32m   1161\u001b[0m                                     \u001b[0;34m\"format specifier ('%s')\"\u001b[0m\u001b[0;34m\u001b[0m\u001b[0m\n\u001b[0;32m-> 1162\u001b[0;31m                                     % (str(X.dtype), format))\n\u001b[0m\u001b[1;32m   1163\u001b[0m         \u001b[0;32mif\u001b[0m \u001b[0mlen\u001b[0m\u001b[0;34m(\u001b[0m\u001b[0mfooter\u001b[0m\u001b[0;34m)\u001b[0m \u001b[0;34m>\u001b[0m \u001b[0;36m0\u001b[0m\u001b[0;34m:\u001b[0m\u001b[0;34m\u001b[0m\u001b[0m\n\u001b[1;32m   1164\u001b[0m             \u001b[0mfooter\u001b[0m \u001b[0;34m=\u001b[0m \u001b[0mfooter\u001b[0m\u001b[0;34m.\u001b[0m\u001b[0mreplace\u001b[0m\u001b[0;34m(\u001b[0m\u001b[0;34m'\\n'\u001b[0m\u001b[0;34m,\u001b[0m \u001b[0;34m'\\n'\u001b[0m \u001b[0;34m+\u001b[0m \u001b[0mcomments\u001b[0m\u001b[0;34m)\u001b[0m\u001b[0;34m\u001b[0m\u001b[0m\n",
      "\u001b[0;31mTypeError\u001b[0m: Mismatch between array dtype ('uint8') and format specifier ('%.18e %.18e %.18e %.18e %.18e %.18e %.18e %.18e %.18e %.18e %.18e %.18e %.18e %.18e %.18e %.18e %.18e %.18e %.18e %.18e %.18e %.18e %.18e %.18e %.18e %.18e %.18e %.18e')"
     ]
    }
   ],
   "source": [
    "np.savetxt(\"mnist_x_train\", x_train)"
   ]
  },
  {
   "cell_type": "code",
   "execution_count": null,
   "metadata": {
    "collapsed": true
   },
   "outputs": [],
   "source": [
    "np.savetxt(\"mnist_x_test\", x_test)"
   ]
  },
  {
   "cell_type": "code",
   "execution_count": 8,
   "metadata": {
    "collapsed": false
   },
   "outputs": [
    {
     "name": "stdout",
     "output_type": "stream",
     "text": [
      "(60000, 784)\n",
      "(10000, 784)\n"
     ]
    }
   ],
   "source": [
    "# Normalize and flatten\n",
    "x_train = x_train.astype('float32') / 255.\n",
    "x_test = x_test.astype('float32') / 255.\n",
    "x_train = x_train.reshape((len(x_train), np.prod(x_train.shape[1:])))\n",
    "x_test = x_test.reshape((len(x_test), np.prod(x_test.shape[1:])))\n",
    "print x_train.shape\n",
    "print x_test.shape"
   ]
  },
  {
   "cell_type": "code",
   "execution_count": 34,
   "metadata": {
    "collapsed": false
   },
   "outputs": [
    {
     "name": "stdout",
     "output_type": "stream",
     "text": [
      "Train on 60000 samples, validate on 10000 samples\n",
      "Epoch 1/50\n",
      "60000/60000 [==============================] - 3s - loss: 0.3729 - val_loss: 0.2719\n",
      "Epoch 2/50\n",
      "60000/60000 [==============================] - 2s - loss: 0.2640 - val_loss: 0.2529\n",
      "Epoch 3/50\n",
      "60000/60000 [==============================] - 2s - loss: 0.2437 - val_loss: 0.2321\n",
      "Epoch 4/50\n",
      "60000/60000 [==============================] - 2s - loss: 0.2248 - val_loss: 0.2148\n",
      "Epoch 5/50\n",
      "60000/60000 [==============================] - 2s - loss: 0.2097 - val_loss: 0.2019\n",
      "Epoch 6/50\n",
      "60000/60000 [==============================] - 2s - loss: 0.1987 - val_loss: 0.1927\n",
      "Epoch 7/50\n",
      "60000/60000 [==============================] - 2s - loss: 0.1905 - val_loss: 0.1857\n",
      "Epoch 8/50\n",
      "60000/60000 [==============================] - 2s - loss: 0.1839 - val_loss: 0.1795\n",
      "Epoch 9/50\n",
      "60000/60000 [==============================] - 2s - loss: 0.1782 - val_loss: 0.1742\n",
      "Epoch 10/50\n",
      "60000/60000 [==============================] - 2s - loss: 0.1733 - val_loss: 0.1696\n",
      "Epoch 11/50\n",
      "60000/60000 [==============================] - 2s - loss: 0.1689 - val_loss: 0.1655\n",
      "Epoch 12/50\n",
      "60000/60000 [==============================] - 2s - loss: 0.1650 - val_loss: 0.1618\n",
      "Epoch 13/50\n",
      "60000/60000 [==============================] - 2s - loss: 0.1614 - val_loss: 0.1584\n",
      "Epoch 14/50\n",
      "60000/60000 [==============================] - 2s - loss: 0.1579 - val_loss: 0.1549\n",
      "Epoch 15/50\n",
      "60000/60000 [==============================] - 2s - loss: 0.1547 - val_loss: 0.1517\n",
      "Epoch 16/50\n",
      "60000/60000 [==============================] - 3s - loss: 0.1516 - val_loss: 0.1488\n",
      "Epoch 17/50\n",
      "60000/60000 [==============================] - 3s - loss: 0.1488 - val_loss: 0.1459\n",
      "Epoch 18/50\n",
      "60000/60000 [==============================] - 3s - loss: 0.1461 - val_loss: 0.1435\n",
      "Epoch 19/50\n",
      "60000/60000 [==============================] - 3s - loss: 0.1436 - val_loss: 0.1410\n",
      "Epoch 20/50\n",
      "60000/60000 [==============================] - 3s - loss: 0.1413 - val_loss: 0.1387\n",
      "Epoch 21/50\n",
      "60000/60000 [==============================] - 3s - loss: 0.1391 - val_loss: 0.1366\n",
      "Epoch 22/50\n",
      "60000/60000 [==============================] - 3s - loss: 0.1370 - val_loss: 0.1345\n",
      "Epoch 23/50\n",
      "60000/60000 [==============================] - 3s - loss: 0.1350 - val_loss: 0.1325\n",
      "Epoch 24/50\n",
      "60000/60000 [==============================] - 3s - loss: 0.1331 - val_loss: 0.1306\n",
      "Epoch 25/50\n",
      "60000/60000 [==============================] - 3s - loss: 0.1312 - val_loss: 0.1288\n",
      "Epoch 26/50\n",
      "60000/60000 [==============================] - 3s - loss: 0.1295 - val_loss: 0.1271\n",
      "Epoch 27/50\n",
      "60000/60000 [==============================] - 3s - loss: 0.1278 - val_loss: 0.1254\n",
      "Epoch 28/50\n",
      "60000/60000 [==============================] - 3s - loss: 0.1262 - val_loss: 0.1239\n",
      "Epoch 29/50\n",
      "60000/60000 [==============================] - 3s - loss: 0.1247 - val_loss: 0.1225\n",
      "Epoch 30/50\n",
      "60000/60000 [==============================] - 3s - loss: 0.1233 - val_loss: 0.1210\n",
      "Epoch 31/50\n",
      "60000/60000 [==============================] - 3s - loss: 0.1220 - val_loss: 0.1197\n",
      "Epoch 32/50\n",
      "60000/60000 [==============================] - 2s - loss: 0.1207 - val_loss: 0.1185\n",
      "Epoch 33/50\n",
      "60000/60000 [==============================] - 2s - loss: 0.1196 - val_loss: 0.1173\n",
      "Epoch 34/50\n",
      "60000/60000 [==============================] - 2s - loss: 0.1185 - val_loss: 0.1163\n",
      "Epoch 35/50\n",
      "60000/60000 [==============================] - 2s - loss: 0.1175 - val_loss: 0.1153\n",
      "Epoch 36/50\n",
      "60000/60000 [==============================] - 2s - loss: 0.1165 - val_loss: 0.1144\n",
      "Epoch 37/50\n",
      "60000/60000 [==============================] - 2s - loss: 0.1156 - val_loss: 0.1135\n",
      "Epoch 38/50\n",
      "60000/60000 [==============================] - 2s - loss: 0.1148 - val_loss: 0.1127\n",
      "Epoch 39/50\n",
      "60000/60000 [==============================] - 2s - loss: 0.1140 - val_loss: 0.1120\n",
      "Epoch 40/50\n",
      "60000/60000 [==============================] - 2s - loss: 0.1132 - val_loss: 0.1112\n",
      "Epoch 41/50\n",
      "60000/60000 [==============================] - 2s - loss: 0.1125 - val_loss: 0.1105\n",
      "Epoch 42/50\n",
      "60000/60000 [==============================] - 2s - loss: 0.1119 - val_loss: 0.1099\n",
      "Epoch 43/50\n",
      "60000/60000 [==============================] - 2s - loss: 0.1113 - val_loss: 0.1093\n",
      "Epoch 44/50\n",
      "60000/60000 [==============================] - 2s - loss: 0.1107 - val_loss: 0.1087\n",
      "Epoch 45/50\n",
      "60000/60000 [==============================] - 2s - loss: 0.1101 - val_loss: 0.1082\n",
      "Epoch 46/50\n",
      "60000/60000 [==============================] - 2s - loss: 0.1096 - val_loss: 0.1076\n",
      "Epoch 47/50\n",
      "60000/60000 [==============================] - 2s - loss: 0.1091 - val_loss: 0.1072\n",
      "Epoch 48/50\n",
      "60000/60000 [==============================] - 2s - loss: 0.1086 - val_loss: 0.1067\n",
      "Epoch 49/50\n",
      "60000/60000 [==============================] - 2s - loss: 0.1081 - val_loss: 0.1063\n",
      "Epoch 50/50\n",
      "60000/60000 [==============================] - 2s - loss: 0.1077 - val_loss: 0.1058\n"
     ]
    },
    {
     "data": {
      "text/plain": [
       "<keras.callbacks.History at 0x11e43e690>"
      ]
     },
     "execution_count": 34,
     "metadata": {},
     "output_type": "execute_result"
    }
   ],
   "source": [
    "autoencoder.fit(x_train, x_train, nb_epoch=50, batch_size=256, shuffle=True, validation_data=(x_test, x_test))"
   ]
  },
  {
   "cell_type": "code",
   "execution_count": null,
   "metadata": {
    "collapsed": true
   },
   "outputs": [],
   "source": [
    "encoded_imgs = encoder.predict(x_test)\n",
    "decoded_imgs = decoder.predict(encoded_imgs)"
   ]
  },
  {
   "cell_type": "code",
   "execution_count": 13,
   "metadata": {
    "collapsed": false
   },
   "outputs": [
    {
     "ename": "KeyboardInterrupt",
     "evalue": "",
     "output_type": "error",
     "traceback": [
      "\u001b[0;31m---------------------------------------------------------------------------\u001b[0m",
      "\u001b[0;31mKeyboardInterrupt\u001b[0m                         Traceback (most recent call last)",
      "\u001b[0;32m/Users/jnoxon/anaconda/lib/python2.7/site-packages/matplotlib/backend_bases.pyc\u001b[0m in \u001b[0;36mbutton_press_event\u001b[0;34m(self, x, y, button, dblclick, guiEvent)\u001b[0m\n\u001b[1;32m   1887\u001b[0m         \u001b[0mself\u001b[0m\u001b[0;34m.\u001b[0m\u001b[0mcallbacks\u001b[0m\u001b[0;34m.\u001b[0m\u001b[0mprocess\u001b[0m\u001b[0;34m(\u001b[0m\u001b[0ms\u001b[0m\u001b[0;34m,\u001b[0m \u001b[0mmouseevent\u001b[0m\u001b[0;34m)\u001b[0m\u001b[0;34m\u001b[0m\u001b[0m\n\u001b[1;32m   1888\u001b[0m \u001b[0;34m\u001b[0m\u001b[0m\n\u001b[0;32m-> 1889\u001b[0;31m     \u001b[0;32mdef\u001b[0m \u001b[0mbutton_press_event\u001b[0m\u001b[0;34m(\u001b[0m\u001b[0mself\u001b[0m\u001b[0;34m,\u001b[0m \u001b[0mx\u001b[0m\u001b[0;34m,\u001b[0m \u001b[0my\u001b[0m\u001b[0;34m,\u001b[0m \u001b[0mbutton\u001b[0m\u001b[0;34m,\u001b[0m \u001b[0mdblclick\u001b[0m\u001b[0;34m=\u001b[0m\u001b[0mFalse\u001b[0m\u001b[0;34m,\u001b[0m \u001b[0mguiEvent\u001b[0m\u001b[0;34m=\u001b[0m\u001b[0mNone\u001b[0m\u001b[0;34m)\u001b[0m\u001b[0;34m:\u001b[0m\u001b[0;34m\u001b[0m\u001b[0m\n\u001b[0m\u001b[1;32m   1890\u001b[0m         \"\"\"\n\u001b[1;32m   1891\u001b[0m         \u001b[0mBackend\u001b[0m \u001b[0mderived\u001b[0m \u001b[0mclasses\u001b[0m \u001b[0mshould\u001b[0m \u001b[0mcall\u001b[0m \u001b[0mthis\u001b[0m \u001b[0mfunction\u001b[0m \u001b[0mon\u001b[0m \u001b[0many\u001b[0m \u001b[0mmouse\u001b[0m\u001b[0;34m\u001b[0m\u001b[0m\n",
      "\u001b[0;31mKeyboardInterrupt\u001b[0m: "
     ]
    }
   ],
   "source": [
    "import matplotlib.pyplot as plt\n",
    "\n",
    "n = 10 # how many digits we will display\n",
    "plt.figure(figsize=(20, 4))\n",
    "for i in range(n):\n",
    "    ax = plt.subplot(2, n, i+1)\n",
    "    plt.imshow(x_test[i].reshape(28, 28))\n",
    "    plt.gray()\n",
    "    ax.get_xaxis().set_visible(False)\n",
    "    ax.get_yaxis().set_visible(False)\n",
    "    \n",
    "    # display reconstruction\n",
    "    ax = plt.subplot(2, n, i+1+n)\n",
    "    plt.imshow(sparkReluTop[i].reshape(28, 28))\n",
    "    plt.gray()\n",
    "    ax.get_xaxis().set_visible(False)\n",
    "    ax.get_yaxis().set_visible(False)\n",
    "plt.show()"
   ]
  },
  {
   "cell_type": "code",
   "execution_count": 9,
   "metadata": {
    "collapsed": false
   },
   "outputs": [],
   "source": []
  },
  {
   "cell_type": "code",
   "execution_count": 10,
   "metadata": {
    "collapsed": false
   },
   "outputs": [],
   "source": [
    "textfile = np.loadtxt(\"spark_sigmoid.txt/part-00000\", dtype=str, delimiter=',')\n",
    "new_array = []\n",
    "for datapoint in textfile:\n",
    "    new_list = []\n",
    "    for i in xrange(len(datapoint)):\n",
    "        string = datapoint[i]\n",
    "        while(string[0] == '['):\n",
    "            string = string[1:]\n",
    "        while(string[-1] == ']'):\n",
    "            string = string[:-1]\n",
    "        new_list.append(float(string.replace('E', 'e')))\n",
    "    new_array.append(new_list)\n",
    "sparkSigmoid = np.asarray(new_array)"
   ]
  },
  {
   "cell_type": "code",
   "execution_count": null,
   "metadata": {
    "collapsed": false
   },
   "outputs": [],
   "source": [
    "textfile = np.loadtxt(\"spark_relu_relu_top.txt/part-00000\", dtype=str, delimiter=',')\n",
    "new_array = []\n",
    "for datapoint in textfile:\n",
    "    new_list = []\n",
    "    for i in xrange(len(datapoint)):\n",
    "        string = datapoint[i]\n",
    "        while(string[0] == '['):\n",
    "            string = string[1:]\n",
    "        while(string[-1] == ']'):\n",
    "            string = string[:-1]\n",
    "        new_list.append(float(string.replace('E', 'e')))\n",
    "    new_array.append(new_list)\n",
    "sparkReluTop = np.asarray(new_array)"
   ]
  },
  {
   "cell_type": "code",
   "execution_count": 12,
   "metadata": {
    "collapsed": false
   },
   "outputs": [
    {
     "data": {
      "text/plain": [
       "array([[  1.97470180e-04,   1.54055582e-04,   1.46218628e-04, ...,\n",
       "          1.86174413e-04,   1.44700923e-04,   2.01552189e-03],\n",
       "       [  2.89018902e-04,   2.93902325e-04,   2.69910296e-04, ...,\n",
       "          3.28720885e-04,   2.79765117e-04,   3.85846673e-03],\n",
       "       [  1.73973348e-04,   1.52255335e-04,   1.57095074e-04, ...,\n",
       "          1.56421560e-04,   4.36706557e-05,   1.71707673e-03],\n",
       "       ..., \n",
       "       [  3.55584036e-04,   3.19387350e-04,   2.20675060e-04, ...,\n",
       "          3.26597859e-04,   2.24279612e-04,   3.02299894e-03],\n",
       "       [  7.17833529e-05,   4.79430598e-05,   1.12903819e-04, ...,\n",
       "          1.13936232e-04,   4.24979463e-05,   1.53353440e-03],\n",
       "       [  7.48196634e-05,   6.72290229e-05,   1.60175939e-04, ...,\n",
       "          9.98129569e-05,   4.02724051e-05,   1.50126805e-03]])"
      ]
     },
     "execution_count": 12,
     "metadata": {},
     "output_type": "execute_result"
    }
   ],
   "source": []
  },
  {
   "cell_type": "code",
   "execution_count": null,
   "metadata": {
    "collapsed": true
   },
   "outputs": [],
   "source": []
  }
 ],
 "metadata": {
  "kernelspec": {
   "display_name": "Python 2",
   "language": "python",
   "name": "python2"
  },
  "language_info": {
   "codemirror_mode": {
    "name": "ipython",
    "version": 2
   },
   "file_extension": ".py",
   "mimetype": "text/x-python",
   "name": "python",
   "nbconvert_exporter": "python",
   "pygments_lexer": "ipython2",
   "version": "2.7.11"
  }
 },
 "nbformat": 4,
 "nbformat_minor": 0
}
